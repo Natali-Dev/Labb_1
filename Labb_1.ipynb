{
 "cells": [
  {
   "cell_type": "markdown",
   "metadata": {},
   "source": [
    "# Labb 1\n",
    "\n",
    "Purpose of this lab is to use fundamentals of python to transform raw data to representable format. More\n",
    "specifically, you will perform a step in decoding DNA data. \n",
    "💡 About DNA data: Can be decoded into four letters: A, T, C and G, which represents adenine, thymine, cytosine and guanine. \n",
    "\n",
    "# Your task 1 is to \n",
    "Count the number of different DNA letters in each sequence.\n",
    "Following the instructions below:\n",
    "1. read the text file called dna_raw.txt\n",
    "    each sequene is composed of two lines of data: the first line beginning with > sign is the\n",
    "    sequence ID, while the following line is the actual sequence\n",
    "    the actual sequence is not case-sensitive, which means that lower and upper case letters are\n",
    "    treated the same\n",
    "2. for each sequence, create a dictionary to count the number of each DNA letter in that sequence\n",
    "3. for each sequence, graph the frequency of DNA letters for each sequence\n",
    "Below is an example of a dictionary and graph from a sequence:\n",
    "\n",
    "\n"
   ]
  },
  {
   "cell_type": "code",
   "execution_count": 11,
   "metadata": {},
   "outputs": [
    {
     "name": "stdout",
     "output_type": "stream",
     "text": [
      ">seq1\n",
      "cGTAaccaataaaaaaacaagcttaacctaattc\n",
      ">seq2\n",
      "agcttagTTTGGatctggccgggg\n",
      ">seq3\n",
      "gcggatttactcCCCCCAAAAANNaggggagagcccagataaatggagtctgtgcgtccaca\n",
      ">seq4\n",
      "gcggatttactcaggggagagcccagGGataaatggagtctgtgcgtccaca\n"
     ]
    }
   ],
   "source": [
    "# 1. Read_file \n",
    "with open(\"dna_raw.txt\", \"r\") as file:\n",
    "    dna_file = file.read()\n",
    "\n",
    "print(dna_file)"
   ]
  },
  {
   "cell_type": "code",
   "execution_count": 12,
   "metadata": {},
   "outputs": [
    {
     "name": "stdout",
     "output_type": "stream",
     "text": [
      "Nej\n",
      "Ja\n",
      "Ja\n",
      "Ja\n",
      "Ja\n"
     ]
    },
    {
     "data": {
      "text/plain": [
       "'>seq1\\ncGTAaccaataaaaaaacaagcttaacctaattc\\n>seq2\\nagcttagTTTGGatctggccgggg\\n>seq3\\ngcggatttactcCCCCCAAAAANNaggggagagcccagataaatggagtctgtgcgtccaca\\n>seq4\\ngcggatttactcaggggagagcccagGGataaatggagtctgtgcgtccaca'"
      ]
     },
     "execution_count": 12,
     "metadata": {},
     "output_type": "execute_result"
    }
   ],
   "source": [
    "dna_file_split = [row.strip() for row in dna_file.rsplit(\">\") if row] #splitta på > om det blir en hel string som är något\n",
    "# 1                 #2          #3                              #4\n",
    "#List comprihension nerbrutet\n",
    "dna_list = []                       #1\n",
    "for row in dna_file.split(\">\"):     #3\n",
    "    if row:                         #4\n",
    "        print(\"Ja\")\n",
    "        dna_list.append(row)\n",
    "    else: \n",
    "        row.strip()                 #2\n",
    "        print(\"Nej\")\n",
    "\n",
    "# dna_file = dna_list\n",
    "dna_file\n",
    "\n",
    "\n",
    "#Första varvet händer inget för den är inget, övriga splits läggs det till i listan"
   ]
  },
  {
   "cell_type": "code",
   "execution_count": 13,
   "metadata": {},
   "outputs": [
    {
     "data": {
      "text/plain": [
       "[{'sequence_number': 'seq1', 'dna_data': 'cgtaaccaataaaaaaacaagcttaacctaattc'},\n",
       " {'sequence_number': 'seq2', 'dna_data': 'agcttagtttggatctggccgggg'},\n",
       " {'sequence_number': 'seq3',\n",
       "  'dna_data': 'gcggatttactccccccaaaaannaggggagagcccagataaatggagtctgtgcgtccaca'},\n",
       " {'sequence_number': 'seq4',\n",
       "  'dna_data': 'gcggatttactcaggggagagcccagggataaatggagtctgtgcgtccaca'}]"
      ]
     },
     "execution_count": 13,
     "metadata": {},
     "output_type": "execute_result"
    }
   ],
   "source": [
    "#2. Spara varje sekvens i en dict\n",
    "\n",
    "dna_file_split = [row.strip().lower() for row in dna_file.rsplit(\">\") if row] #splitta på > om det blir en hel string som är något\n",
    "# print(dna_file_split)\n",
    "\n",
    "dict_list = []\n",
    "for row in dna_file_split:\n",
    "    part = row.split()\n",
    "    dna_dict = {\n",
    "        \"sequence_number\": part[0],\n",
    "        \"dna_data\": part[1]\n",
    "    }\n",
    "    dict_list.append(dna_dict)\n",
    "dict_list"
   ]
  },
  {
   "cell_type": "code",
   "execution_count": 14,
   "metadata": {},
   "outputs": [
    {
     "data": {
      "text/plain": [
       "[{'sequence_number': 'seq1', 'A': 17, 'T': 7, 'C': 8, 'G': 2},\n",
       " {'sequence_number': 'seq2', 'A': 3, 'T': 7, 'C': 4, 'G': 10},\n",
       " {'sequence_number': 'seq3', 'A': 18, 'T': 10, 'C': 16, 'G': 16},\n",
       " {'sequence_number': 'seq4', 'A': 13, 'T': 10, 'C': 11, 'G': 18}]"
      ]
     },
     "execution_count": 14,
     "metadata": {},
     "output_type": "execute_result"
    }
   ],
   "source": [
    "# 2. count the number of each DNA letter in that sequence\n",
    "# A, T, C, G\n",
    "# räkna bokstäverna i varje sekvens och  och kolla av med varje loop vilken seq_mummer den tillhör och spara i den (listan)?\n",
    "# spara i en dictionary? \n",
    "counted_dictionary_list = []\n",
    "for data in dict_list: \n",
    "    seq_number = data.get(\"sequence_number\")\n",
    "    dna_data = data.get(\"dna_data\")\n",
    "\n",
    "    a = dna_data.count(\"a\")\n",
    "    t = dna_data.count(\"t\")\n",
    "    c = dna_data.count(\"c\")\n",
    "    g = dna_data.count(\"g\")\n",
    "    \n",
    "    counted_dictionary = {\n",
    "        \"sequence_number\": seq_number,\n",
    "        \"A\": a,\n",
    "        \"T\": t,\n",
    "        \"C\": c,\n",
    "        \"G\": g\n",
    "    }\n",
    "    counted_dictionary_list.append(counted_dictionary)\n",
    "counted_dictionary_list"
   ]
  },
  {
   "cell_type": "code",
   "execution_count": 39,
   "metadata": {},
   "outputs": [
    {
     "data": {
      "image/png": "[encoded data removed]",
      "text/plain": [
       "<Figure size 640x480 with 1 Axes>"
      ]
     },
     "metadata": {},
     "output_type": "display_data"
    },
    {
     "data": {
      "image/png": "[encoded data removed]",
      "text/plain": [
       "<Figure size 640x480 with 1 Axes>"
      ]
     },
     "metadata": {},
     "output_type": "display_data"
    },
    {
     "data": {
      "image/png": "[encoded data removed]",
      "text/plain": [
       "<Figure size 640x480 with 1 Axes>"
      ]
     },
     "metadata": {},
     "output_type": "display_data"
    },
    {
     "data": {
      "image/png": "[encoded data removed]",
      "text/plain": [
       "<Figure size 640x480 with 1 Axes>"
      ]
     },
     "metadata": {},
     "output_type": "display_data"
    }
   ],
   "source": [
    "# 3. for each sequence, graph the frequency of DNA letters for each sequence\n",
    "import matplotlib.pyplot as plt\n",
    "colors = [\"yellow\", \"green\", \"red\", \"blue\"]\n",
    "i = 0\n",
    "for data in counted_dictionary_list: \n",
    "    seq_number = data.get(\"sequence_number\")\n",
    "    a = data.get(\"A\")\n",
    "    t = data.get(\"T\")\n",
    "    c = data.get(\"C\")\n",
    "    g = data.get(\"G\")\n",
    "    plt.title(seq_number)\n",
    "    plt.ylabel(\"Y-axel\")\n",
    "    plt.xlabel(\"X-axel\")\n",
    "    x = [\"A\", \"T\", \"C\", \"G\"]\n",
    "    y = [a, t, c, g]\n",
    "    plt.bar(x, y, color=colors[i])\n",
    "    plt.show()\n",
    "    i += 1\n",
    "\n",
    "# plt.title(\"DNA-SEQUENCES 1\")\n",
    "# plt.ylabel(\"Y-axel\")\n",
    "# plt.xlabel(\"X-axel\")\n",
    "# x = [\"A\", \"T\", \"C\", \"G\"]\n",
    "# y = [a, t, c, g]\n",
    "# plt.bar(x, y)\n",
    "# plt.show()\n",
    "\n",
    "# plt.title(\"DNA-SEQUENCES 2\")\n",
    "# plt.ylabel(\"Y-axel\")\n",
    "# plt.xlabel(\"X-axel\")\n",
    "# x = [\"A\", \"T\", \"C\", \"G\"]\n",
    "# y = [a, t, c, g]\n",
    "# plt.bar(x, y)\n",
    "# plt.show()\n",
    "\n",
    "# plt.title(\"DNA-SEQUENCES 3\")\n",
    "# plt.ylabel(\"Y-axel\")\n",
    "# plt.xlabel(\"X-axel\")\n",
    "# x = [\"A\", \"T\", \"C\", \"G\"]\n",
    "# y = [a, t, c, g]\n",
    "# plt.bar(x, y)\n",
    "# plt.show()\n",
    "\n",
    "# plt.title(\"DNA-SEQUENCES 4\", a)\n",
    "# plt.ylabel(\"Y-axel\")\n",
    "# plt.xlabel(\"X-axel\")\n",
    "# x = [\"A\", \"T\", \"C\", \"G\"]\n",
    "# y = [a, t, c, g]\n",
    "# plt.bar(x, y)\n",
    "# plt.show()"
   ]
  },
  {
   "cell_type": "markdown",
   "metadata": {},
   "source": [
    "Task 2 (bonus)\n",
    "Lab 1 python fundamentals.md 2025-02-11\n",
    "2 / 2\n",
    "there can be raw DNA data files with different number of sequences. Based on your solution code\n",
    "above, create a function that is able to take in new data files in similar format as dna_raw.txt with\n",
    "different number of sequences, and produce the same results above\n",
    "you have received also another DNA codes that is more complicated. The file is called\n",
    "dna_raw_complicated.txt. In this file, each DNA sequence can be composed of multiple lines of data in\n",
    "the text file. In this case, are you able to solve the task in the same way as before? If not, update your\n",
    "code to solve the same task with the new data\n",
    "Grading\n",
    "If you have taken ideas of codes from someone or found them online, it is important that you state the\n",
    "source and understand how the codes work. Write a comment next to these codes.\n",
    "Criteria for G:\n",
    "solved task 1 correctly\n",
    "added relevant comments on the codes\n",
    "the codes are well-structured\n",
    "Criteria for VG:\n",
    "solved both tasks 1 and 2 correctly\n",
    "Submission\n",
    "create a public github repo when you start working with this lab\n",
    "the repo should show that you have made commits into it\n",
    "when you are done, send the repo URL to Learnpoint by the deadline\n",
    "Note:\n",
    "* The data are modified from the sample data here: https://github.com/mahmoudparsian/data-algorithms-with-spark/tree/master\n",
    "** This task is much simplied compared to data processing of actual DNA data to fit the purpose of our course"
   ]
  }
 ],
 "metadata": {
  "kernelspec": {
   "display_name": ".venv",
   "language": "python",
   "name": "python3"
  },
  "language_info": {
   "codemirror_mode": {
    "name": "ipython",
    "version": 3
   },
   "file_extension": ".py",
   "mimetype": "text/x-python",
   "name": "python",
   "nbconvert_exporter": "python",
   "pygments_lexer": "ipython3",
   "version": "3.12.8"
  }
 },
 "nbformat": 4,
 "nbformat_minor": 2
}
