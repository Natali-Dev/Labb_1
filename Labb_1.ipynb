{
 "cells": [
  {
   "cell_type": "markdown",
   "metadata": {},
   "source": [
    "# Labb 1\n",
    "\n",
    "Purpose of this lab is to use fundamentals of python to transform raw data to representable format. More\n",
    "specifically, you will perform a step in decoding DNA data. \n",
    "💡 About DNA data: Can be decoded into four letters: A, T, C and G, which represents adenine, thymine, cytosine and guanine. \n",
    "\n",
    "# Your task 1 is to \n",
    "Count the number of different DNA letters in each sequence.\n",
    "Following the instructions below:\n",
    "1. read the text file called dna_raw.txt\n",
    "    each sequene is composed of two lines of data: the first line beginning with > sign is the\n",
    "    sequence ID, while the following line is the actual sequence\n",
    "    the actual sequence is not case-sensitive, which means that lower and upper case letters are\n",
    "    treated the same\n",
    "2. for each sequence, create a dictionary to count the number of each DNA letter in that sequence\n",
    "3. for each sequence, graph the frequency of DNA letters for each sequence\n",
    "Below is an example of a dictionary and graph from a sequence:\n",
    "\n",
    "\n"
   ]
  },
  {
   "cell_type": "code",
   "execution_count": 55,
   "metadata": {},
   "outputs": [
    {
     "name": "stdout",
     "output_type": "stream",
     "text": [
      ">seq1\n",
      "cGTAaccaataaaaaaacaagcttaacctaattc\n",
      ">seq2\n",
      "agcttagTTTGGatctggccgggg\n",
      ">seq3\n",
      "gcggatttactcCCCCCAAAAANNaggggagagcccagataaatggagtctgtgcgtccaca\n",
      ">seq4\n",
      "gcggatttactcaggggagagcccagGGataaatggagtctgtgcgtccaca\n"
     ]
    }
   ],
   "source": [
    "# 1. Read_file \n",
    "with open(\"dna_raw.txt\", \"r\") as file:\n",
    "    dna_file = file.read()              #Läs filen och döp den till dna_file\n",
    "\n",
    "print(dna_file)"
   ]
  },
  {
   "cell_type": "code",
   "execution_count": 56,
   "metadata": {},
   "outputs": [
    {
     "name": "stdout",
     "output_type": "stream",
     "text": [
      "Nej\n",
      "Ja\n",
      "Ja\n",
      "Ja\n",
      "Ja\n"
     ]
    },
    {
     "data": {
      "text/plain": [
       "'>seq1\\ncGTAaccaataaaaaaacaagcttaacctaattc\\n>seq2\\nagcttagTTTGGatctggccgggg\\n>seq3\\ngcggatttactcCCCCCAAAAANNaggggagagcccagataaatggagtctgtgcgtccaca\\n>seq4\\ngcggatttactcaggggagagcccagGGataaatggagtctgtgcgtccaca'"
      ]
     },
     "execution_count": 56,
     "metadata": {},
     "output_type": "execute_result"
    }
   ],
   "source": [
    "#List comprihension nerbrutet\n",
    "dna_file_split = [row.strip() for row in dna_file.rsplit(\">\") if row] #splitta på > om det blir en hel string som är något\n",
    "# 1                 #2          #3                              #4\n",
    "#List comprihension nerbrutet\n",
    "dna_list = []                       #1\n",
    "for row in dna_file.split(\">\"):     #3\n",
    "    if row:                         #4\n",
    "        print(\"Ja\")\n",
    "        dna_list.append(row)\n",
    "    else: \n",
    "        row.strip()                 #2\n",
    "        print(\"Nej\")\n",
    "\n",
    "# dna_file = dna_list\n",
    "dna_file\n",
    "\n",
    "\n",
    "#Första varvet händer inget för den är inget, övriga splits läggs det till i listan"
   ]
  },
  {
   "cell_type": "code",
   "execution_count": 57,
   "metadata": {},
   "outputs": [
    {
     "data": {
      "text/plain": [
       "[{'sequence_number': 'seq1', 'dna_data': 'cgtaaccaataaaaaaacaagcttaacctaattc'},\n",
       " {'sequence_number': 'seq2', 'dna_data': 'agcttagtttggatctggccgggg'},\n",
       " {'sequence_number': 'seq3',\n",
       "  'dna_data': 'gcggatttactccccccaaaaannaggggagagcccagataaatggagtctgtgcgtccaca'},\n",
       " {'sequence_number': 'seq4',\n",
       "  'dna_data': 'gcggatttactcaggggagagcccagggataaatggagtctgtgcgtccaca'}]"
      ]
     },
     "execution_count": 57,
     "metadata": {},
     "output_type": "execute_result"
    }
   ],
   "source": [
    "#2. Spara varje sekvens i en dictionary\n",
    "\n",
    "dna_file_split = [row.strip().lower() for row in dna_file.rsplit(\">\") if row] #splitta på > om det blir en hel string som är något\n",
    "# print(dna_file_split)\n",
    "\n",
    "dict_list = []\n",
    "for row in dna_file_split:\n",
    "    part = row.split()\n",
    "    dna_dict = {\n",
    "        \"sequence_number\": part[0],\n",
    "        \"dna_data\": part[1]             #Man kan använda part[1:], då sparar den varje data string i en egen lista i listan\n",
    "    }\n",
    "    dict_list.append(dna_dict)\n",
    "dict_list"
   ]
  },
  {
   "cell_type": "code",
   "execution_count": 49,
   "metadata": {},
   "outputs": [
    {
     "data": {
      "text/plain": [
       "[{'sequence_number': 'seq1', 'A': 0, 'T': 0, 'C': 0, 'G': 0},\n",
       " {'sequence_number': 'seq2', 'A': 0, 'T': 0, 'C': 0, 'G': 0},\n",
       " {'sequence_number': 'seq3', 'A': 0, 'T': 0, 'C': 0, 'G': 0},\n",
       " {'sequence_number': 'seq4', 'A': 0, 'T': 0, 'C': 0, 'G': 0}]"
      ]
     },
     "execution_count": 49,
     "metadata": {},
     "output_type": "execute_result"
    }
   ],
   "source": [
    "# 2. count the number of each DNA letter in that sequence\n",
    "# A, T, C, G\n",
    "# räkna bokstäverna i varje sekvens och  och kolla av med varje loop vilken seq_mummer den tillhör och spara i den (listan)?\n",
    "# spara i en dictionary? \n",
    "counted_dictionary_list = []\n",
    "for data in dict_list:                          #för varje rad/index(som en foreachloop) i listan \n",
    "    seq_number = data.get(\"sequence_number\")    #hämta nummer\n",
    "    dna_data = data.get(\"dna_data\")             #hämta datan\n",
    "\n",
    "    a = dna_data.count(\"a\")                     #räkna hur många av varje bokstav förekommer, per varje rad\n",
    "    t = dna_data.count(\"t\")\n",
    "    c = dna_data.count(\"c\")\n",
    "    g = dna_data.count(\"g\")\n",
    "    \n",
    "    counted_dictionary = {                      #spara i en dict, fortfarande i loopen så den sparar över för varje varv \n",
    "        \"sequence_number\": seq_number,\n",
    "        \"A\": a,\n",
    "        \"T\": t,\n",
    "        \"C\": c,\n",
    "        \"G\": g\n",
    "    }\n",
    "    counted_dictionary_list.append(counted_dictionary)  #lägg till i en lista\n",
    "counted_dictionary_list"
   ]
  },
  {
   "cell_type": "code",
   "execution_count": null,
   "metadata": {},
   "outputs": [
    {
     "ename": "ValueError",
     "evalue": "too many values to unpack (expected 2)",
     "output_type": "error",
     "traceback": [
      "\u001b[1;31m---------------------------------------------------------------------------\u001b[0m",
      "\u001b[1;31mValueError\u001b[0m                                Traceback (most recent call last)",
      "Cell \u001b[1;32mIn[50], line 5\u001b[0m\n\u001b[0;32m      3\u001b[0m colors \u001b[38;5;241m=\u001b[39m [\u001b[38;5;124m\"\u001b[39m\u001b[38;5;124myellow\u001b[39m\u001b[38;5;124m\"\u001b[39m, \u001b[38;5;124m\"\u001b[39m\u001b[38;5;124mgreen\u001b[39m\u001b[38;5;124m\"\u001b[39m, \u001b[38;5;124m\"\u001b[39m\u001b[38;5;124mred\u001b[39m\u001b[38;5;124m\"\u001b[39m, \u001b[38;5;124m\"\u001b[39m\u001b[38;5;124mblue\u001b[39m\u001b[38;5;124m\"\u001b[39m]\n\u001b[0;32m      4\u001b[0m \u001b[38;5;66;03m# i = 0\u001b[39;00m\n\u001b[1;32m----> 5\u001b[0m \u001b[38;5;28;01mfor\u001b[39;00m i, data \u001b[38;5;129;01min\u001b[39;00m counted_dictionary_list: \n\u001b[0;32m      6\u001b[0m     seq_number \u001b[38;5;241m=\u001b[39m data\u001b[38;5;241m.\u001b[39mget(\u001b[38;5;124m\"\u001b[39m\u001b[38;5;124msequence_number\u001b[39m\u001b[38;5;124m\"\u001b[39m)\n\u001b[0;32m      7\u001b[0m     a \u001b[38;5;241m=\u001b[39m data\u001b[38;5;241m.\u001b[39mget(\u001b[38;5;124m\"\u001b[39m\u001b[38;5;124mA\u001b[39m\u001b[38;5;124m\"\u001b[39m)\n",
      "\u001b[1;31mValueError\u001b[0m: too many values to unpack (expected 2)"
     ]
    }
   ],
   "source": [
    "# 3. for each sequence, graph the frequency of DNA letters for each sequence\n",
    "import matplotlib.pyplot as plt\n",
    "colors = [\"yellow\", \"green\", \"red\", \"blue\"]\n",
    "i = 0\n",
    "for data in counted_dictionary_list: \n",
    "    seq_number = data.get(\"sequence_number\") #Hämta ut titeln\n",
    "    a = data.get(\"A\")\n",
    "    t = data.get(\"T\")\n",
    "    c = data.get(\"C\")\n",
    "    g = data.get(\"G\")\n",
    "    plt.title(seq_number)\n",
    "    plt.ylabel(\"Y-axel\")\n",
    "    plt.xlabel(\"X-axel\")\n",
    "    x = [\"A\", \"T\", \"C\", \"G\"]\n",
    "    y = [a, t, c, g]            #variablerna har värdet för varje dictionary\n",
    "    plt.bar(x, y, color=colors[i])  #byt färg på varje. kollade upp med chatgpt hur man gör det\n",
    "    plt.show()                      #kom ihåg show för att kunna visa flera fönster samtidigt, kollade upp med chatgpt hur man gör det\n",
    "    i += 1\n"
   ]
  },
  {
   "cell_type": "markdown",
   "metadata": {},
   "source": [
    "Task 2 (bonus)\n",
    "\n",
    "Grading\n",
    "If you have taken ideas of codes from someone or found them online, it is important that you state the\n",
    "source and understand how the codes work. Write a comment next to these codes.\n",
    "Criteria for G:\n",
    "solved task 1 correctly\n",
    "added relevant comments on the codes\n",
    "the codes are well-structured\n",
    "Criteria for VG:\n",
    "solved both tasks 1 and 2 correctly\n",
    "Submission\n",
    "create a public github repo when you start working with this lab\n",
    "the repo should show that you have made commits into it\n",
    "when you are done, send the repo URL to Learnpoint by the deadline\n",
    "Note:\n",
    "\n",
    "1. Based on your solution code above, create a function that is able to take in new data files in similar format as dna_raw.txt with\n",
    "different number of sequences, and produce the same results above\n",
    "\n",
    "2. you have received also another DNA codes that is more complicated. The file is called\n",
    "dna_raw_complicated.txt. In this file, each DNA sequence can be composed of multiple lines of data in\n",
    "the text file. In this case, are you able to solve the task in the same way as before? If not, update your\n",
    "code to solve the same task with the new data\n"
   ]
  }
 ],
 "metadata": {
  "kernelspec": {
   "display_name": ".venv",
   "language": "python",
   "name": "python3"
  },
  "language_info": {
   "codemirror_mode": {
    "name": "ipython",
    "version": 3
   },
   "file_extension": ".py",
   "mimetype": "text/x-python",
   "name": "python",
   "nbconvert_exporter": "python",
   "pygments_lexer": "ipython3",
   "version": "3.12.8"
  }
 },
 "nbformat": 4,
 "nbformat_minor": 2
}
